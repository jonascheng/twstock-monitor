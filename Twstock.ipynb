{
 "cells": [
  {
   "cell_type": "code",
   "execution_count": 3,
   "metadata": {
    "collapsed": false
   },
   "outputs": [
    {
     "ename": "AttributeError",
     "evalue": "'OutStream' object has no attribute 'readable'",
     "output_type": "error",
     "traceback": [
      "\u001b[0;31m---------------------------------------------------------------------------\u001b[0m",
      "\u001b[0;31mAttributeError\u001b[0m                            Traceback (most recent call last)",
      "\u001b[0;32m<ipython-input-3-36cdefd946a0>\u001b[0m in \u001b[0;36m<module>\u001b[0;34m()\u001b[0m\n\u001b[1;32m      3\u001b[0m \u001b[0;32mimport\u001b[0m \u001b[0mpandas\u001b[0m \u001b[0;32mas\u001b[0m \u001b[0mpd\u001b[0m\u001b[0;34m\u001b[0m\u001b[0m\n\u001b[1;32m      4\u001b[0m \u001b[0;34m\u001b[0m\u001b[0m\n\u001b[0;32m----> 5\u001b[0;31m \u001b[0;32mimport\u001b[0m \u001b[0mMyStock\u001b[0m\u001b[0;34m\u001b[0m\u001b[0m\n\u001b[0m\u001b[1;32m      6\u001b[0m \u001b[0;32mfrom\u001b[0m \u001b[0mutil\u001b[0m \u001b[0;32mimport\u001b[0m \u001b[0mlinregress\u001b[0m\u001b[0;34m\u001b[0m\u001b[0m\n\u001b[1;32m      7\u001b[0m \u001b[0;34m\u001b[0m\u001b[0m\n",
      "\u001b[0;32m/Volumes/SyncStorage/Github/twstock-monitor/MyStock.py\u001b[0m in \u001b[0;36m<module>\u001b[0;34m()\u001b[0m\n\u001b[1;32m      4\u001b[0m \u001b[0;32mimport\u001b[0m \u001b[0mpandas\u001b[0m \u001b[0;32mas\u001b[0m \u001b[0mpd\u001b[0m\u001b[0;34m\u001b[0m\u001b[0m\n\u001b[1;32m      5\u001b[0m \u001b[0;34m\u001b[0m\u001b[0m\n\u001b[0;32m----> 6\u001b[0;31m \u001b[0;32mfrom\u001b[0m \u001b[0mtwstock\u001b[0m \u001b[0;32mimport\u001b[0m \u001b[0mStock\u001b[0m\u001b[0;34m\u001b[0m\u001b[0m\n\u001b[0m\u001b[1;32m      7\u001b[0m \u001b[0;32mfrom\u001b[0m \u001b[0mtwstock\u001b[0m \u001b[0;32mimport\u001b[0m \u001b[0mrealtime\u001b[0m\u001b[0;34m\u001b[0m\u001b[0m\n\u001b[1;32m      8\u001b[0m \u001b[0;32mfrom\u001b[0m \u001b[0mtwstock\u001b[0m \u001b[0;32mimport\u001b[0m \u001b[0mBestFourPoint\u001b[0m\u001b[0;34m\u001b[0m\u001b[0m\n",
      "\u001b[0;32m/Users/jonas/.pyenv/versions/anaconda3-4.3.1/lib/python3.6/site-packages/twstock/__init__.py\u001b[0m in \u001b[0;36m<module>\u001b[0;34m()\u001b[0m\n\u001b[1;32m      3\u001b[0m \u001b[0;32mfrom\u001b[0m \u001b[0mtwstock\u001b[0m \u001b[0;32mimport\u001b[0m \u001b[0mstock\u001b[0m\u001b[0;34m\u001b[0m\u001b[0m\n\u001b[1;32m      4\u001b[0m \u001b[0;32mfrom\u001b[0m \u001b[0mtwstock\u001b[0m \u001b[0;32mimport\u001b[0m \u001b[0manalytics\u001b[0m\u001b[0;34m\u001b[0m\u001b[0m\n\u001b[0;32m----> 5\u001b[0;31m \u001b[0;32mfrom\u001b[0m \u001b[0mtwstock\u001b[0m \u001b[0;32mimport\u001b[0m \u001b[0mcli\u001b[0m\u001b[0;34m\u001b[0m\u001b[0m\n\u001b[0m\u001b[1;32m      6\u001b[0m \u001b[0;32mfrom\u001b[0m \u001b[0mtwstock\u001b[0m \u001b[0;32mimport\u001b[0m \u001b[0mmock\u001b[0m\u001b[0;34m\u001b[0m\u001b[0m\n\u001b[1;32m      7\u001b[0m \u001b[0;32mfrom\u001b[0m \u001b[0mtwstock\u001b[0m \u001b[0;32mimport\u001b[0m \u001b[0mrealtime\u001b[0m\u001b[0;34m\u001b[0m\u001b[0m\n",
      "\u001b[0;32m/Users/jonas/.pyenv/versions/anaconda3-4.3.1/lib/python3.6/site-packages/twstock/cli/__init__.py\u001b[0m in \u001b[0;36m<module>\u001b[0;34m()\u001b[0m\n\u001b[1;32m      2\u001b[0m \u001b[0;34m\u001b[0m\u001b[0m\n\u001b[1;32m      3\u001b[0m \u001b[0;32mimport\u001b[0m \u001b[0margparse\u001b[0m\u001b[0;34m\u001b[0m\u001b[0m\n\u001b[0;32m----> 4\u001b[0;31m \u001b[0;32mfrom\u001b[0m \u001b[0mtwstock\u001b[0m\u001b[0;34m.\u001b[0m\u001b[0mcli\u001b[0m \u001b[0;32mimport\u001b[0m \u001b[0mbest_four_point\u001b[0m\u001b[0;34m\u001b[0m\u001b[0m\n\u001b[0m\u001b[1;32m      5\u001b[0m \u001b[0;32mfrom\u001b[0m \u001b[0mtwstock\u001b[0m\u001b[0;34m.\u001b[0m\u001b[0mcli\u001b[0m \u001b[0;32mimport\u001b[0m \u001b[0mstock\u001b[0m\u001b[0;34m\u001b[0m\u001b[0m\n\u001b[1;32m      6\u001b[0m \u001b[0;32mfrom\u001b[0m \u001b[0mtwstock\u001b[0m\u001b[0;34m.\u001b[0m\u001b[0mcli\u001b[0m \u001b[0;32mimport\u001b[0m \u001b[0mrealtime\u001b[0m\u001b[0;34m\u001b[0m\u001b[0m\n",
      "\u001b[0;32m/Users/jonas/.pyenv/versions/anaconda3-4.3.1/lib/python3.6/site-packages/twstock/cli/best_four_point.py\u001b[0m in \u001b[0;36m<module>\u001b[0;34m()\u001b[0m\n\u001b[1;32m      7\u001b[0m \u001b[0;31m# XXX: Repalce sys.stdout prevent Windows UnicodeEncodeError on cmd.exe\u001b[0m\u001b[0;34m\u001b[0m\u001b[0;34m\u001b[0m\u001b[0m\n\u001b[1;32m      8\u001b[0m stdout = io.TextIOWrapper(\n\u001b[0;32m----> 9\u001b[0;31m     getattr(sys.stdout, 'buffer', sys.stdout), encoding='utf-8', errors='replace')\n\u001b[0m\u001b[1;32m     10\u001b[0m \u001b[0;34m\u001b[0m\u001b[0m\n\u001b[1;32m     11\u001b[0m \u001b[0;34m\u001b[0m\u001b[0m\n",
      "\u001b[0;31mAttributeError\u001b[0m: 'OutStream' object has no attribute 'readable'"
     ]
    }
   ],
   "source": [
    "import plotly.plotly as py\n",
    "import plotly.graph_objs as go\n",
    "import pandas as pd\n",
    "\n",
    "import MyStock\n",
    "from util import linregress\n",
    "\n",
    "\n",
    "def df2scatter(df):\n",
    "    scatter_list = []\n",
    "    for row in df:\n",
    "        if row != 'date':\n",
    "            scatter = go.Scatter(\n",
    "                x=df['date'], # assign x as the dataframe column 'date'\n",
    "                y=df[row],\n",
    "                name=row\n",
    "            )\n",
    "            scatter_lingress = go.Scatter(\n",
    "                x=df['date'], # assign x as the dataframe column 'date'\n",
    "                y=linregress(df[row]),\n",
    "                name='{}_lingress'.format(row)\n",
    "            )\n",
    "            scatter_list.append(scatter)\n",
    "            scatter_list.append(scatter_lingress)\n",
    "    return scatter_list\n",
    "    \n",
    "days=60\n",
    "sid = '2337'\n",
    "s = MyStock(sid)\n",
    "df = s.fetch_N_days_in_df(days)\n",
    "data = df2scatter(df)\n",
    "df2 = s.cal_N_days_ma_in_df(days, 10)\n",
    "data2 = df2scatter(df2)\n",
    "data = data + data2\n",
    "\n",
    "layout = go.Layout(\n",
    "    title='stock price',\n",
    "    yaxis=dict(\n",
    "        title='stock price'\n",
    "    )\n",
    ")\n",
    "fig = go.Figure(data=data, layout=layout)\n",
    "py.iplot(fig)\n"
   ]
  },
  {
   "cell_type": "code",
   "execution_count": 5,
   "metadata": {
    "collapsed": false
   },
   "outputs": [
    {
     "name": "stdout",
     "output_type": "stream",
     "text": [
      "Requirement already satisfied: twstock in /Users/jonas/.pyenv/versions/anaconda3-4.3.1/lib/python3.6/site-packages\r\n",
      "Requirement already satisfied: requests in /Users/jonas/.pyenv/versions/anaconda3-4.3.1/lib/python3.6/site-packages (from twstock)\r\n"
     ]
    }
   ],
   "source": [
    "!pip install twstock"
   ]
  },
  {
   "cell_type": "code",
   "execution_count": null,
   "metadata": {
    "collapsed": true
   },
   "outputs": [],
   "source": []
  }
 ],
 "metadata": {
  "kernelspec": {
   "display_name": "Python 3",
   "language": "python",
   "name": "python3"
  },
  "language_info": {
   "codemirror_mode": {
    "name": "ipython",
    "version": 3
   },
   "file_extension": ".py",
   "mimetype": "text/x-python",
   "name": "python",
   "nbconvert_exporter": "python",
   "pygments_lexer": "ipython3",
   "version": "3.6.0"
  }
 },
 "nbformat": 4,
 "nbformat_minor": 2
}
